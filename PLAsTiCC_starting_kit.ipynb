{
 "cells": [
  {
   "cell_type": "markdown",
   "metadata": {},
   "source": [
    "<a href=\"http://www.datascience-paris-saclay.fr\">\n",
    "<img src=\"img/logoUPSayPlusCDS_990.png\" width=\"600px\">\n",
    "</a>\n",
    "\n",
    "# Pre-PLAsTiCC - RAMP: classification of astronomical transients\n",
    "\n",
    "##### Alexandre Boucaud (Paris-Saclay Center for Data Science) \n",
    "##### Emille E. O. Ishida (Universite Clermont-Auvergne)"
   ]
  },
  {
   "cell_type": "markdown",
   "metadata": {},
   "source": [
    "## Introduction\n",
    "\n",
    "\n",
    "Most of the sources we observe in the night sky evolve during a very long period of time (millions or even billions of years) - rendering them practically static in comparison to the time scale of  a human life. However, this is only a partial description of possible events taking place in the Universe. \n",
    "\n",
    "For a long time, astronomers have [recorded the observation](https://en.wikipedia.org/wiki/SN_185) events whose life spam lasts for days or months.  More  recently, the advent of modern telescopes expanded our ability to detect astronomical events which happen from a few seconds to years. These are called **[transients](https://www.lsst.org/science/transient-optical-sky)** and they are the may concern of researchers working in **time domain astronomy**.\n",
    "\n",
    "\n",
    "\n",
    "Transients can are the observational consequence of a large variety of astronomical phenomena. For example,  a cataclismic event (e.g. a stellar explosion in the case of [supernovae](https://www.nasa.gov/audience/forstudents/5-8/features/nasa-knows/what-is-a-supernova.html)); the physical process governing high density regions of the Universe (e.g. [active galactic nuclei (AGN)](https://ned.ipac.caltech.edu/level5/Cambridge/frames.html)) or our position in relation to a set of observed objects (e.g. [eclipsing binaries](http://www.physics.sfasu.edu/astro/ebstar/ebstar.html)). \n",
    "\n",
    "\n",
    "These relatively rapid changing objects can provide important clues about themselves and their environement - as well as the evolution of the universe as a whole (e.g. [type Ia supernovae](http://hubblesite.org/hubble_discoveries/dark_energy/de-type_ia_supernovae.php) provided the first evidence of the current accelerated expansion of the Universe caused by [dark energy](http://astronomy.swin.edu.au/cosmos/D/Dark+Energy)). Therefore, the proper classification of transients is a crucial task in observational astronomy - specially in the light of large data volumes expected for the next generation of astronomical surveys.\n",
    "\n",
    "\n",
    "In what follows, we will use the example of supernovae to illustrate the more general problem of transient classification. "
   ]
  },
  {
   "cell_type": "markdown",
   "metadata": {},
   "source": [
    "## The Data Problem\n",
    "\n",
    "\n",
    "Once a supernova is detected, we need to scrutinize its  light through two different channels before we can use it in subsequent astrophysical analysis. These two methods are called *spectroscopy* and *photometry*. \n",
    "\n",
    "**[Spectroscopy](http://loke.as.arizona.edu/~ckulesa/camp/spectroscopy_intro.html)**  is the modern equivalent of using a prism to separate a beam of white light in the rainbown colours. It is a high resolution measurement which allows us to identify emission/absorption features indicative of specific chemical elements - and are also the main source of information enabling classification. \n",
    "\n",
    "Despite being paramount for the classification task, spectroscopy is an extremely time consuming process - with integration times hanging from 20 minutes to a few hours depending on the telescope and brightness of the source. \n",
    "\n",
    "\n",
    "Traditionally, transient classification is completely based on spectroscopic measurements - however, given the volume of data expected from the upcoming large scale sky surveys, this strategy is not sustainable. An alternative approach, based on cheaper/lower resolution measurements must be found."
   ]
  },
  {
   "cell_type": "markdown",
   "metadata": {},
   "source": [
    "<figure>\n",
    "    <img src=\"img/SNspectra.jpg\" width=\"400px\">\n",
    "    <figcaption>**Figure 1**: Example of spectra of SNe Ia, Ic, Ib and II (from top to bottom) highlighting their main spectral features. \n",
    "        *Figure by Daniel Kasen*\n",
    "    </figcaption>\n",
    "</figure>\n"
   ]
  },
  {
   "cell_type": "markdown",
   "metadata": {},
   "source": [
    "**Photometry**  gives the overall information of how bright the source is (how much energy the object is emitting) at a particular moment. It can be described as the low resolution counterpart of spectroscopy - or the integral of all the information stored in the spectra. \n",
    "\n",
    "\n",
    "A sequence of photometric observations made at different moments in time is called a *light curve*. It holds the information of how the energy of the source evolves with time and can also be used to characterize different types of supernovae (although the distinction between classes is much more discrete than we would hope it to be). \n",
    "\n",
    "\n",
    "Photometry has the advantadge of being a relatevely straight forward and cheap process. Moreover, it is also capable of accessing a much larger volume of the universe - reaching dimmer and, consequently, further objects."
   ]
  },
  {
   "cell_type": "markdown",
   "metadata": {},
   "source": [
    "<figure>\n",
    "    <img src=\"img/lightcurves.jpg\" width=\"500px\">\n",
    "    <figcaption>**Figure 2**: Example of the light-curves (brightness as a function of time) for different supernova types. *Image: J. Craig Wheeler, 2012*\n",
    "    </figcaption>\n",
    "</figure>"
   ]
  },
  {
   "cell_type": "markdown",
   "metadata": {},
   "source": [
    "New instruments, like the [Large Synoptic Survey Telescope (LSST)](https://www.lsst.org/) - scheduled to begin observations in 2022 - will produce an unprecedented number of light curves. Once these transients are detected, we rely on agreements with other telescopes in order to acquire a small number of spectroscopic observations. \n",
    "\n",
    "\n",
    "In summary: we must develop ways to classify transients using only their light curves. \n",
    "\n",
    "\n",
    "In the context of machine learning, this means using the small, biased spectroscopic sample in order to train a classifier which will subsequently be applied to the larger, photometric-only sample."
   ]
  },
  {
   "cell_type": "markdown",
   "metadata": {},
   "source": [
    "### Filters\n",
    "\n",
    "\n",
    "In a real data scenario, the concetual description of a light curve given above has a further degree of complexity. \n",
    "\n",
    "The electromagnetic spectrum is divided in broad wavelength ranges and the signal from the source is integrate only within this range - and convolved with the filter transmission.\n",
    "\n",
    "The figure bellow shown an example of a set of broad-band filters superimposed to a type Ia supernova spectra."
   ]
  },
  {
   "cell_type": "markdown",
   "metadata": {},
   "source": [
    "<figure>\n",
    "    <img src=\"img/filters_snIa_max_z1.png\" width=\"700px\">\n",
    "    <figcaption>**Figure 3**: Example of DES broad-band filters transmission superimposed to a type Ia supernova spectrum at peak brightness. *Figure by Emille Ishida*\n",
    "    </figcaption>\n",
    "</figure>"
   ]
  },
  {
   "cell_type": "markdown",
   "metadata": {},
   "source": [
    "As a consequence, for each supernova we will have a set of 4 light curves. These express the evolution of the brightness of the object as a function of time *for each one of the wavelength intervals covered by the broad-band filters*."
   ]
  },
  {
   "cell_type": "markdown",
   "metadata": {},
   "source": [
    "## The prediction task"
   ]
  },
  {
   "cell_type": "markdown",
   "metadata": {},
   "source": [
    "For this specific challenge we wil focus on the binary classification of supernovae, between SNIa and non-SNIa."
   ]
  },
  {
   "cell_type": "markdown",
   "metadata": {},
   "source": [
    "### The Road so Far\n",
    "\n",
    "\n",
    "The photometric classification of supernovae has been studied in the astronomical literature for a long time. This culminated in the *Supernova Photometric Classification Challenge (SNPCC)* ([Kessler *et al.*, 2010](https://arxiv.org/pdf/1008.1024.pdf)), where the participants were invited to classify a simulated dataset designed to mimic the specifications of the *[Dark Energy Survey](https://www.darkenergysurvey.org/)*. \n",
    "\n",
    "\n",
    "The challenge provided a state of the art description of the classification methods available in the literature, bringing together different groups who had been investigating the problem for a while. Although none of the algorithms performed obviously better than all others, its main legacy was the updated data set and corresponding labels which were made public to the community. \n",
    "\n",
    "\n",
    "This is the data set that we will use in this RAMP.  "
   ]
  },
  {
   "cell_type": "markdown",
   "metadata": {},
   "source": [
    "### References\n",
    "\n",
    "A recent review of how different machine learning methods perform on this dataset can be found at [Lochner *et al.*, 2016](https://arxiv.org/abs/1603.00882) and references therein."
   ]
  },
  {
   "cell_type": "markdown",
   "metadata": {},
   "source": [
    "##  Data\n",
    "\n",
    "\n",
    "\n",
    "The lightcurve data is made of **non-homogeneously sampled**, **non-periodic** time series with correlated errors obtained in several wavelength filters.\n",
    "\n",
    "The DES dataset provided with this RAMP has light curves in 4 filters *g*, *r*, *i* and *z*."
   ]
  },
  {
   "cell_type": "markdown",
   "metadata": {},
   "source": [
    "### Downloading data\n",
    "\n",
    "To obtain the DES dataset, make sure to run the provided script `download_data.py`"
   ]
  },
  {
   "cell_type": "code",
   "execution_count": null,
   "metadata": {
    "collapsed": true
   },
   "outputs": [],
   "source": [
    "!python download_data.py"
   ]
  },
  {
   "cell_type": "markdown",
   "metadata": {},
   "source": [
    "### Reading the data\n",
    "\n",
    "Here we provide methods to read the `pickle` files and convert the data to a `pandas` dataframe for convenience.\n",
    "\n",
    "The SN label is removed from the main dataframe and provided as a separate one."
   ]
  },
  {
   "cell_type": "code",
   "execution_count": 1,
   "metadata": {
    "collapsed": true
   },
   "outputs": [],
   "source": [
    "import gzip\n",
    "import pickle\n",
    "import pandas as pd\n",
    "import numpy as np\n",
    "\n",
    "\n",
    "def read_data(filename):\n",
    "    \"\"\"Read data from pickled file to a pandas dataframe\"\"\"\n",
    "    with gzip.open(filename, 'rb') as f:\n",
    "        data = pickle.load(f)\n",
    "\n",
    "    X = to_dataframe(data)\n",
    "    y = pd.get_dummies(X.type == 0, prefix='SNIa', drop_first=True)\n",
    "    X = X.drop(columns=['comment', 'type'])\n",
    "\n",
    "    return X, y\n",
    "\n",
    "\n",
    "def to_dataframe(data):\n",
    "    \"\"\"Converts from a python dictionary to a pandas dataframe\"\"\"\n",
    "    for idx in data:\n",
    "        sn = data[idx]\n",
    "        for filt in 'griz':\n",
    "            sn['mjd_%s' % filt] = np.array(sn[filt]['mjd'])\n",
    "            sn['fluxcal_%s' % filt] = np.array(sn[filt]['fluxcal'])\n",
    "            sn['fluxcalerr_%s' % filt] = np.array(sn[filt]['fluxcalerr'])\n",
    "            del sn[filt]\n",
    "        sn.update(sn['header'])\n",
    "        del sn['header']\n",
    "\n",
    "    return pd.DataFrame.from_dict(data, orient='index')"
   ]
  },
  {
   "cell_type": "markdown",
   "metadata": {},
   "source": [
    "Here is a peak at the data."
   ]
  },
  {
   "cell_type": "code",
   "execution_count": 2,
   "metadata": {
    "collapsed": true
   },
   "outputs": [],
   "source": [
    "X, y = read_data('data/des_train.pkl')"
   ]
  },
  {
   "cell_type": "code",
   "execution_count": 3,
   "metadata": {
    "collapsed": false
   },
   "outputs": [
    {
     "data": {
      "text/html": [
       "<div>\n",
       "<style scoped>\n",
       "    .dataframe tbody tr th:only-of-type {\n",
       "        vertical-align: middle;\n",
       "    }\n",
       "\n",
       "    .dataframe tbody tr th {\n",
       "        vertical-align: top;\n",
       "    }\n",
       "\n",
       "    .dataframe thead th {\n",
       "        text-align: right;\n",
       "    }\n",
       "</style>\n",
       "<table border=\"1\" class=\"dataframe\">\n",
       "  <thead>\n",
       "    <tr style=\"text-align: right;\">\n",
       "      <th></th>\n",
       "      <th>mjd_g</th>\n",
       "      <th>fluxcal_g</th>\n",
       "      <th>fluxcalerr_g</th>\n",
       "      <th>mjd_r</th>\n",
       "      <th>fluxcal_r</th>\n",
       "      <th>fluxcalerr_r</th>\n",
       "      <th>mjd_i</th>\n",
       "      <th>fluxcal_i</th>\n",
       "      <th>fluxcalerr_i</th>\n",
       "      <th>mjd_z</th>\n",
       "      <th>fluxcal_z</th>\n",
       "      <th>fluxcalerr_z</th>\n",
       "      <th>snid</th>\n",
       "      <th>z</th>\n",
       "      <th>pkmjd</th>\n",
       "      <th>pkmag_g</th>\n",
       "      <th>pkmag_r</th>\n",
       "      <th>pkmag_i</th>\n",
       "      <th>pkmag_z</th>\n",
       "    </tr>\n",
       "  </thead>\n",
       "  <tbody>\n",
       "    <tr>\n",
       "      <th>1186</th>\n",
       "      <td>[56283.203, 56288.199, 56292.098, 56304.051, 5...</td>\n",
       "      <td>[3.182, -13.07, -7.177, -0.4645, 0.2906, 16.63...</td>\n",
       "      <td>[6.285, 11.79, 11.65, 2.479, 7.569, 6.195, 3.6...</td>\n",
       "      <td>[56283.211, 56288.215, 56292.102, 56304.055, 5...</td>\n",
       "      <td>[-4.973, -6.427, 9.861, -1.663, 6.724, 23.82, ...</td>\n",
       "      <td>[3.326, 6.181, 4.83, 1.657, 2.966, 2.553, 3.07...</td>\n",
       "      <td>[56283.215, 56289.109, 56292.191, 56304.07, 56...</td>\n",
       "      <td>[-0.615, -9.294, 0.8371, 0.6895, -1.593, 24.51...</td>\n",
       "      <td>[5.816, 7.082, 5.599, 2.506, 5.021, 3.699, 4.5...</td>\n",
       "      <td>[56283.223, 56289.125, 56292.199, 56304.086, 5...</td>\n",
       "      <td>[11.06, 9.393, 3.887, -0.519, 7.005, 33.13, 94...</td>\n",
       "      <td>[5.047, 5.425, 5.158, 3.934, 5.43, 4.443, 7.02...</td>\n",
       "      <td>1186</td>\n",
       "      <td>0.3698</td>\n",
       "      <td>56335.335938</td>\n",
       "      <td>23.07</td>\n",
       "      <td>22.27</td>\n",
       "      <td>22.21</td>\n",
       "      <td>22.43</td>\n",
       "    </tr>\n",
       "    <tr>\n",
       "      <th>1292</th>\n",
       "      <td>[56177.172, 56179.172, 56187.156, 56189.148, 5...</td>\n",
       "      <td>[27.18, 34.83, 24.15, 34.06, 20.13, 5.124, 2.7...</td>\n",
       "      <td>[4.837, 2.372, 1.805, 9.802, 3.809, 2.291, 1.5...</td>\n",
       "      <td>[56177.188, 56179.312, 56187.172, 56189.16, 56...</td>\n",
       "      <td>[33.02, 34.65, 26.92, 33.84, 18.57, 17.39, 17....</td>\n",
       "      <td>[5.375, 3.109, 1.365, 3.938, 2.385, 1.643, 1.1...</td>\n",
       "      <td>[56177.203, 56179.328, 56187.188, 56189.176, 5...</td>\n",
       "      <td>[49.55, 42.79, 30.72, 34.43, 23.86, 14.07, 12....</td>\n",
       "      <td>[5.519, 4.282, 1.993, 8.104, 8.079, 2.161, 1.4...</td>\n",
       "      <td>[56177.234, 56179.359, 56187.211, 56189.203, 5...</td>\n",
       "      <td>[49.68, 48.62, 42.8, 43.68, 33.21, 27.07, 21.5...</td>\n",
       "      <td>[4.784, 3.636, 2.322, 4.765, 5.671, 2.26, 1.86...</td>\n",
       "      <td>1292</td>\n",
       "      <td>0.3501</td>\n",
       "      <td>56164.195312</td>\n",
       "      <td>23.44</td>\n",
       "      <td>23.36</td>\n",
       "      <td>23.35</td>\n",
       "      <td>23.12</td>\n",
       "    </tr>\n",
       "    <tr>\n",
       "      <th>2542</th>\n",
       "      <td>[56176.191, 56179.188, 56180.266, 56188.16, 56...</td>\n",
       "      <td>[6.955, 21.06, 24.68, 31.91, 27.69, 22.4, 13.2...</td>\n",
       "      <td>[4.773, 2.635, 2.617, 5.746, 2.38, 2.698, 4.80...</td>\n",
       "      <td>[56176.199, 56179.195, 56180.281, 56188.176, 5...</td>\n",
       "      <td>[38.23, 49.79, 54.4, 86.6, 80.42, 73.66, 56.32...</td>\n",
       "      <td>[2.257, 1.963, 1.675, 5.829, 3.629, 2.059, 2.5...</td>\n",
       "      <td>[56176.215, 56179.234, 56180.297, 56188.211, 5...</td>\n",
       "      <td>[36.53, 48.08, 55.75, 70.12, 78.81, 71.36, 68....</td>\n",
       "      <td>[3.225, 2.191, 3.837, 4.723, 9.182, 2.675, 4.3...</td>\n",
       "      <td>[56176.238, 56179.266, 56180.328, 56188.238, 5...</td>\n",
       "      <td>[29.16, 46.65, 45.53, 64.54, 77.19, 75.92, 62....</td>\n",
       "      <td>[2.545, 3.832, 4.569, 3.611, 3.302, 2.779, 2.9...</td>\n",
       "      <td>2542</td>\n",
       "      <td>0.5415</td>\n",
       "      <td>56192.007812</td>\n",
       "      <td>24.17</td>\n",
       "      <td>22.79</td>\n",
       "      <td>22.81</td>\n",
       "      <td>22.85</td>\n",
       "    </tr>\n",
       "    <tr>\n",
       "      <th>2598</th>\n",
       "      <td>[56248.324, 56258.215, 56261.098, 56273.16, 56...</td>\n",
       "      <td>[1.006, -4.694, -2.976, -1.77, 19.69, 61.47, 6...</td>\n",
       "      <td>[1.701, 4.948, 8.828, 1.752, 2.131, 5.026, 6.6...</td>\n",
       "      <td>[56248.34, 56258.227, 56261.102, 56273.176, 56...</td>\n",
       "      <td>[-3.556, -3.604, -5.289, 1.965, 22.99, 84.78, ...</td>\n",
       "      <td>[1.337, 2.382, 3.395, 1.214, 1.358, 2.664, 3.3...</td>\n",
       "      <td>[56258.035, 56261.125, 56273.188, 56281.203, 5...</td>\n",
       "      <td>[22.24, 3.958, -0.1393, 23.06, 90.29, 93.4, 12...</td>\n",
       "      <td>[9.893, 3.854, 2.023, 1.858, 3.509, 5.387, 3.5...</td>\n",
       "      <td>[56258.066, 56261.156, 56273.219, 56281.227, 5...</td>\n",
       "      <td>[4.218, 1.312, 0.01804, 25.39, 87.45, 116.4, 1...</td>\n",
       "      <td>[3.968, 3.086, 2.251, 2.342, 3.062, 3.001, 3.2...</td>\n",
       "      <td>2598</td>\n",
       "      <td>0.3513</td>\n",
       "      <td>56301.996094</td>\n",
       "      <td>22.46</td>\n",
       "      <td>22.02</td>\n",
       "      <td>21.94</td>\n",
       "      <td>22.21</td>\n",
       "    </tr>\n",
       "    <tr>\n",
       "      <th>3644</th>\n",
       "      <td>[56177.172, 56179.172, 56187.156, 56189.148, 5...</td>\n",
       "      <td>[10.03, 3.29, 25.31, 52.93, 137.8, 113.8, 66.4...</td>\n",
       "      <td>[4.792, 2.242, 1.817, 9.857, 4.69, 3.219, 2.12...</td>\n",
       "      <td>[56177.188, 56179.312, 56187.172, 56189.16, 56...</td>\n",
       "      <td>[3.537, 10.17, 45.56, 59.92, 111.3, 139.9, 124...</td>\n",
       "      <td>[5.336, 3.038, 1.537, 4.06, 3.17, 3.089, 2.598...</td>\n",
       "      <td>[56177.203, 56179.328, 56187.188, 56189.176, 5...</td>\n",
       "      <td>[-2.231, 3.372, 28.65, 42.03, 151.9, 155.9, 14...</td>\n",
       "      <td>[5.436, 4.201, 1.98, 8.119, 8.558, 3.634, 3.05...</td>\n",
       "      <td>[56177.234, 56179.359, 56187.211, 56189.203, 5...</td>\n",
       "      <td>[-0.1238, -3.598, 15.7, 14.39, 136.5, 142.2, 1...</td>\n",
       "      <td>[4.691, 3.518, 2.197, 4.702, 6.187, 3.451, 2.9...</td>\n",
       "      <td>3644</td>\n",
       "      <td>0.2705</td>\n",
       "      <td>56204.546875</td>\n",
       "      <td>22.18</td>\n",
       "      <td>22.13</td>\n",
       "      <td>22.00</td>\n",
       "      <td>22.15</td>\n",
       "    </tr>\n",
       "  </tbody>\n",
       "</table>\n",
       "</div>"
      ],
      "text/plain": [
       "                                                  mjd_g  \\\n",
       "1186  [56283.203, 56288.199, 56292.098, 56304.051, 5...   \n",
       "1292  [56177.172, 56179.172, 56187.156, 56189.148, 5...   \n",
       "2542  [56176.191, 56179.188, 56180.266, 56188.16, 56...   \n",
       "2598  [56248.324, 56258.215, 56261.098, 56273.16, 56...   \n",
       "3644  [56177.172, 56179.172, 56187.156, 56189.148, 5...   \n",
       "\n",
       "                                              fluxcal_g  \\\n",
       "1186  [3.182, -13.07, -7.177, -0.4645, 0.2906, 16.63...   \n",
       "1292  [27.18, 34.83, 24.15, 34.06, 20.13, 5.124, 2.7...   \n",
       "2542  [6.955, 21.06, 24.68, 31.91, 27.69, 22.4, 13.2...   \n",
       "2598  [1.006, -4.694, -2.976, -1.77, 19.69, 61.47, 6...   \n",
       "3644  [10.03, 3.29, 25.31, 52.93, 137.8, 113.8, 66.4...   \n",
       "\n",
       "                                           fluxcalerr_g  \\\n",
       "1186  [6.285, 11.79, 11.65, 2.479, 7.569, 6.195, 3.6...   \n",
       "1292  [4.837, 2.372, 1.805, 9.802, 3.809, 2.291, 1.5...   \n",
       "2542  [4.773, 2.635, 2.617, 5.746, 2.38, 2.698, 4.80...   \n",
       "2598  [1.701, 4.948, 8.828, 1.752, 2.131, 5.026, 6.6...   \n",
       "3644  [4.792, 2.242, 1.817, 9.857, 4.69, 3.219, 2.12...   \n",
       "\n",
       "                                                  mjd_r  \\\n",
       "1186  [56283.211, 56288.215, 56292.102, 56304.055, 5...   \n",
       "1292  [56177.188, 56179.312, 56187.172, 56189.16, 56...   \n",
       "2542  [56176.199, 56179.195, 56180.281, 56188.176, 5...   \n",
       "2598  [56248.34, 56258.227, 56261.102, 56273.176, 56...   \n",
       "3644  [56177.188, 56179.312, 56187.172, 56189.16, 56...   \n",
       "\n",
       "                                              fluxcal_r  \\\n",
       "1186  [-4.973, -6.427, 9.861, -1.663, 6.724, 23.82, ...   \n",
       "1292  [33.02, 34.65, 26.92, 33.84, 18.57, 17.39, 17....   \n",
       "2542  [38.23, 49.79, 54.4, 86.6, 80.42, 73.66, 56.32...   \n",
       "2598  [-3.556, -3.604, -5.289, 1.965, 22.99, 84.78, ...   \n",
       "3644  [3.537, 10.17, 45.56, 59.92, 111.3, 139.9, 124...   \n",
       "\n",
       "                                           fluxcalerr_r  \\\n",
       "1186  [3.326, 6.181, 4.83, 1.657, 2.966, 2.553, 3.07...   \n",
       "1292  [5.375, 3.109, 1.365, 3.938, 2.385, 1.643, 1.1...   \n",
       "2542  [2.257, 1.963, 1.675, 5.829, 3.629, 2.059, 2.5...   \n",
       "2598  [1.337, 2.382, 3.395, 1.214, 1.358, 2.664, 3.3...   \n",
       "3644  [5.336, 3.038, 1.537, 4.06, 3.17, 3.089, 2.598...   \n",
       "\n",
       "                                                  mjd_i  \\\n",
       "1186  [56283.215, 56289.109, 56292.191, 56304.07, 56...   \n",
       "1292  [56177.203, 56179.328, 56187.188, 56189.176, 5...   \n",
       "2542  [56176.215, 56179.234, 56180.297, 56188.211, 5...   \n",
       "2598  [56258.035, 56261.125, 56273.188, 56281.203, 5...   \n",
       "3644  [56177.203, 56179.328, 56187.188, 56189.176, 5...   \n",
       "\n",
       "                                              fluxcal_i  \\\n",
       "1186  [-0.615, -9.294, 0.8371, 0.6895, -1.593, 24.51...   \n",
       "1292  [49.55, 42.79, 30.72, 34.43, 23.86, 14.07, 12....   \n",
       "2542  [36.53, 48.08, 55.75, 70.12, 78.81, 71.36, 68....   \n",
       "2598  [22.24, 3.958, -0.1393, 23.06, 90.29, 93.4, 12...   \n",
       "3644  [-2.231, 3.372, 28.65, 42.03, 151.9, 155.9, 14...   \n",
       "\n",
       "                                           fluxcalerr_i  \\\n",
       "1186  [5.816, 7.082, 5.599, 2.506, 5.021, 3.699, 4.5...   \n",
       "1292  [5.519, 4.282, 1.993, 8.104, 8.079, 2.161, 1.4...   \n",
       "2542  [3.225, 2.191, 3.837, 4.723, 9.182, 2.675, 4.3...   \n",
       "2598  [9.893, 3.854, 2.023, 1.858, 3.509, 5.387, 3.5...   \n",
       "3644  [5.436, 4.201, 1.98, 8.119, 8.558, 3.634, 3.05...   \n",
       "\n",
       "                                                  mjd_z  \\\n",
       "1186  [56283.223, 56289.125, 56292.199, 56304.086, 5...   \n",
       "1292  [56177.234, 56179.359, 56187.211, 56189.203, 5...   \n",
       "2542  [56176.238, 56179.266, 56180.328, 56188.238, 5...   \n",
       "2598  [56258.066, 56261.156, 56273.219, 56281.227, 5...   \n",
       "3644  [56177.234, 56179.359, 56187.211, 56189.203, 5...   \n",
       "\n",
       "                                              fluxcal_z  \\\n",
       "1186  [11.06, 9.393, 3.887, -0.519, 7.005, 33.13, 94...   \n",
       "1292  [49.68, 48.62, 42.8, 43.68, 33.21, 27.07, 21.5...   \n",
       "2542  [29.16, 46.65, 45.53, 64.54, 77.19, 75.92, 62....   \n",
       "2598  [4.218, 1.312, 0.01804, 25.39, 87.45, 116.4, 1...   \n",
       "3644  [-0.1238, -3.598, 15.7, 14.39, 136.5, 142.2, 1...   \n",
       "\n",
       "                                           fluxcalerr_z  snid       z  \\\n",
       "1186  [5.047, 5.425, 5.158, 3.934, 5.43, 4.443, 7.02...  1186  0.3698   \n",
       "1292  [4.784, 3.636, 2.322, 4.765, 5.671, 2.26, 1.86...  1292  0.3501   \n",
       "2542  [2.545, 3.832, 4.569, 3.611, 3.302, 2.779, 2.9...  2542  0.5415   \n",
       "2598  [3.968, 3.086, 2.251, 2.342, 3.062, 3.001, 3.2...  2598  0.3513   \n",
       "3644  [4.691, 3.518, 2.197, 4.702, 6.187, 3.451, 2.9...  3644  0.2705   \n",
       "\n",
       "             pkmjd  pkmag_g  pkmag_r  pkmag_i  pkmag_z  \n",
       "1186  56335.335938    23.07    22.27    22.21    22.43  \n",
       "1292  56164.195312    23.44    23.36    23.35    23.12  \n",
       "2542  56192.007812    24.17    22.79    22.81    22.85  \n",
       "2598  56301.996094    22.46    22.02    21.94    22.21  \n",
       "3644  56204.546875    22.18    22.13    22.00    22.15  "
      ]
     },
     "execution_count": 3,
     "metadata": {},
     "output_type": "execute_result"
    }
   ],
   "source": [
    "# 5 first rows of the dataframe\n",
    "X.head()"
   ]
  },
  {
   "cell_type": "markdown",
   "metadata": {},
   "source": [
    "And the labels, converted to a {0, 1} array."
   ]
  },
  {
   "cell_type": "code",
   "execution_count": 4,
   "metadata": {
    "collapsed": false,
    "scrolled": true
   },
   "outputs": [
    {
     "data": {
      "text/html": [
       "<div>\n",
       "<style scoped>\n",
       "    .dataframe tbody tr th:only-of-type {\n",
       "        vertical-align: middle;\n",
       "    }\n",
       "\n",
       "    .dataframe tbody tr th {\n",
       "        vertical-align: top;\n",
       "    }\n",
       "\n",
       "    .dataframe thead th {\n",
       "        text-align: right;\n",
       "    }\n",
       "</style>\n",
       "<table border=\"1\" class=\"dataframe\">\n",
       "  <thead>\n",
       "    <tr style=\"text-align: right;\">\n",
       "      <th></th>\n",
       "      <th>SNIa_True</th>\n",
       "    </tr>\n",
       "  </thead>\n",
       "  <tbody>\n",
       "    <tr>\n",
       "      <th>1186</th>\n",
       "      <td>1</td>\n",
       "    </tr>\n",
       "    <tr>\n",
       "      <th>1292</th>\n",
       "      <td>0</td>\n",
       "    </tr>\n",
       "    <tr>\n",
       "      <th>2542</th>\n",
       "      <td>1</td>\n",
       "    </tr>\n",
       "    <tr>\n",
       "      <th>2598</th>\n",
       "      <td>1</td>\n",
       "    </tr>\n",
       "    <tr>\n",
       "      <th>3644</th>\n",
       "      <td>0</td>\n",
       "    </tr>\n",
       "  </tbody>\n",
       "</table>\n",
       "</div>"
      ],
      "text/plain": [
       "      SNIa_True\n",
       "1186          1\n",
       "1292          0\n",
       "2542          1\n",
       "2598          1\n",
       "3644          0"
      ]
     },
     "execution_count": 4,
     "metadata": {},
     "output_type": "execute_result"
    }
   ],
   "source": [
    "y.head()"
   ]
  },
  {
   "cell_type": "markdown",
   "metadata": {},
   "source": [
    "In the DataFrame, each supernova is indexed by its ID"
   ]
  },
  {
   "cell_type": "code",
   "execution_count": 5,
   "metadata": {
    "collapsed": false
   },
   "outputs": [
    {
     "data": {
      "text/plain": [
       "Int64Index([1186, 1292, 2542, 2598, 3644], dtype='int64')"
      ]
     },
     "execution_count": 5,
     "metadata": {},
     "output_type": "execute_result"
    }
   ],
   "source": [
    "X.head().index"
   ]
  },
  {
   "cell_type": "markdown",
   "metadata": {},
   "source": [
    "and can be accessed via the `loc` accessor"
   ]
  },
  {
   "cell_type": "code",
   "execution_count": 6,
   "metadata": {
    "collapsed": false
   },
   "outputs": [
    {
     "data": {
      "text/plain": [
       "mjd_g           [56283.203, 56288.199, 56292.098, 56304.051, 5...\n",
       "fluxcal_g       [3.182, -13.07, -7.177, -0.4645, 0.2906, 16.63...\n",
       "fluxcalerr_g    [6.285, 11.79, 11.65, 2.479, 7.569, 6.195, 3.6...\n",
       "mjd_r           [56283.211, 56288.215, 56292.102, 56304.055, 5...\n",
       "fluxcal_r       [-4.973, -6.427, 9.861, -1.663, 6.724, 23.82, ...\n",
       "fluxcalerr_r    [3.326, 6.181, 4.83, 1.657, 2.966, 2.553, 3.07...\n",
       "mjd_i           [56283.215, 56289.109, 56292.191, 56304.07, 56...\n",
       "fluxcal_i       [-0.615, -9.294, 0.8371, 0.6895, -1.593, 24.51...\n",
       "fluxcalerr_i    [5.816, 7.082, 5.599, 2.506, 5.021, 3.699, 4.5...\n",
       "mjd_z           [56283.223, 56289.125, 56292.199, 56304.086, 5...\n",
       "fluxcal_z       [11.06, 9.393, 3.887, -0.519, 7.005, 33.13, 94...\n",
       "fluxcalerr_z    [5.047, 5.425, 5.158, 3.934, 5.43, 4.443, 7.02...\n",
       "snid                                                         1186\n",
       "z                                                          0.3698\n",
       "pkmjd                                                     56335.3\n",
       "pkmag_g                                                     23.07\n",
       "pkmag_r                                                     22.27\n",
       "pkmag_i                                                     22.21\n",
       "pkmag_z                                                     22.43\n",
       "Name: 1186, dtype: object"
      ]
     },
     "execution_count": 6,
     "metadata": {},
     "output_type": "execute_result"
    }
   ],
   "source": [
    "# SN 1186\n",
    "X.loc[1186]"
   ]
  },
  {
   "cell_type": "markdown",
   "metadata": {},
   "source": [
    "or via positional indexing with the `iloc` accessor."
   ]
  },
  {
   "cell_type": "code",
   "execution_count": 7,
   "metadata": {
    "collapsed": true
   },
   "outputs": [],
   "source": [
    "# Also SN 1186\n",
    "sn0 = X.iloc[0]"
   ]
  },
  {
   "cell_type": "markdown",
   "metadata": {},
   "source": [
    "Here is a method to visualize the data"
   ]
  },
  {
   "cell_type": "code",
   "execution_count": 8,
   "metadata": {
    "collapsed": true
   },
   "outputs": [],
   "source": [
    "import matplotlib.pyplot as plt\n",
    "plt.style.use('seaborn')\n",
    "%matplotlib inline\n",
    "\n",
    "DES_FILTERS = 'griz'\n",
    "\n",
    "def plot_lightcurves(idx):\n",
    "    fig, axes = plt.subplots(2, 2, sharex=True, sharey=True, figsize=(12, 8))\n",
    "    for id_f, f in enumerate(DES_FILTERS):\n",
    "        ax = axes[id_f // 2, id_f % 2]\n",
    "        ax.errorbar(X.iloc[idx]['mjd_%s' % f], \n",
    "                    X.iloc[idx]['fluxcal_%s' % f], \n",
    "                    X.iloc[idx]['fluxcalerr_%s' % f], \n",
    "                    fmt='o')\n",
    "        ax.set_xlabel('MJD')\n",
    "        ax.set_ylabel('Calibrated flux')\n",
    "        ax.set_title('%s-band' % f)"
   ]
  },
  {
   "cell_type": "markdown",
   "metadata": {},
   "source": [
    "Use this method to look at the raw light curves"
   ]
  },
  {
   "cell_type": "code",
   "execution_count": 9,
   "metadata": {
    "collapsed": false
   },
   "outputs": [
    {
     "data": {
      "image/png": "[encoded data removed]",
      "text/plain": [
       "<matplotlib.figure.Figure at 0x1069eb668>"
      ]
     },
     "metadata": {},
     "output_type": "display_data"
    }
   ],
   "source": [
    "plot_lightcurves(0)"
   ]
  },
  {
   "cell_type": "markdown",
   "metadata": {},
   "source": [
    "## Starting kit pipeline elements"
   ]
  },
  {
   "cell_type": "markdown",
   "metadata": {},
   "source": [
    "For this classification challenge, participants are required to submit two files:\n",
    "* `feature_extractor.py` \n",
    "* `classifier.py`     \n",
    "\n",
    "In the following, we will go through the process of designing a baseline submission, that is writing the script for both the pre-processing step and the classification step."
   ]
  },
  {
   "cell_type": "markdown",
   "metadata": {},
   "source": [
    "### Pre-processing - a.k.a. feature extraction"
   ]
  },
  {
   "cell_type": "markdown",
   "metadata": {},
   "source": [
    "As the SN data is highly non-homogeneous a little pre-processing need to be done. In the example below we fit the data using a parametric function proposed by [Bazin et al., 2009](https://arxiv.org/pdf/0904.1066.pdf):"
   ]
  },
  {
   "cell_type": "markdown",
   "metadata": {},
   "source": [
    "$$ f(t) = A \\frac{\\exp\\left(-\\frac{t - t_0}{\\tau_{fall}}\\right)}{1 + \\exp\\left(\\frac{t - t_0}{\\tau_{rise}}\\right)}  + B$$"
   ]
  },
  {
   "cell_type": "code",
   "execution_count": 10,
   "metadata": {
    "collapsed": true
   },
   "outputs": [],
   "source": [
    "def bazin(time, A, B, t0, tfall, trise):\n",
    "    X = np.exp(-(time - t0) / tfall) / (1 + np.exp((time - t0) / trise))\n",
    "    return A * X + B"
   ]
  },
  {
   "cell_type": "markdown",
   "metadata": {},
   "source": [
    "Although this parametric form does not have a physical motivation, it reproduces quiet well the behavior of most light curves.  \n",
    "\n",
    "<div class=\"alert alert-warning\">\n",
    "<b>NOTE</b>  \n",
    "This function is very sensitive to the magnitude of the time of observation. The use of [Modified Julian Date](https://bowie.gsfc.nasa.gov/time/) creates large time values, which are not relevant for such analysis so we use a scaled time instead in order to ensure the convergence of the fit.\n",
    "</div>\n",
    "\n",
    "\n",
    "We provide an example fitting function, so you can fit a light curve and plot reslts as follows:"
   ]
  },
  {
   "cell_type": "code",
   "execution_count": 11,
   "metadata": {
    "collapsed": true
   },
   "outputs": [],
   "source": [
    "from scipy.optimize import least_squares\n",
    "\n",
    "def lightcurve_fit(time, flux):\n",
    "    scaled_time = time - time.min()\n",
    "    t0 = scaled_time[flux.argmax()]\n",
    "    guess = (0, 0, t0, 40, -5)\n",
    "\n",
    "    errfunc = lambda params: abs(flux - bazin(scaled_time, *params))\n",
    "\n",
    "    result = least_squares(errfunc, guess, method='lm')\n",
    "\n",
    "    return result.x"
   ]
  },
  {
   "cell_type": "markdown",
   "metadata": {},
   "source": [
    "The parametric fit on the light curves yields 5 parameters for each filter $A, B, t_0, \\tau_{fall}, \\tau_{rise}$."
   ]
  },
  {
   "cell_type": "code",
   "execution_count": 12,
   "metadata": {
    "collapsed": false
   },
   "outputs": [
    {
     "data": {
      "text/plain": [
       "array([132.37309428,  -5.38585536,  47.36812147,  10.92992313,  -3.95247409])"
      ]
     },
     "execution_count": 12,
     "metadata": {},
     "output_type": "execute_result"
    }
   ],
   "source": [
    "lightcurve_fit(sn0.mjd_g, sn0.fluxcal_g)"
   ]
  },
  {
   "cell_type": "code",
   "execution_count": 13,
   "metadata": {
    "collapsed": true
   },
   "outputs": [],
   "source": [
    "def plot_lightcurves_with_fit(idx):\n",
    "    fig, axes = plt.subplots(2, 2, sharex=True, sharey=True, figsize=(12, 8))\n",
    "    for id_f, f in enumerate(DES_FILTERS):\n",
    "        ax = axes[id_f // 2, id_f % 2]\n",
    "        \n",
    "        time = X.iloc[idx]['mjd_%s' % f]\n",
    "        flux = X.iloc[idx]['fluxcal_%s' % f]\n",
    "        \n",
    "        fit = lightcurve_fit(time, flux)\n",
    "        stime = np.arange(time.min(), time.max())\n",
    "        \n",
    "        ax.plot(time, flux, 'o')\n",
    "        ax.plot(stime, bazin(stime - stime.min(), *fit))\n",
    "        ax.set_xlabel('MJD')\n",
    "        ax.set_ylabel('Calibrated flux')\n",
    "        ax.set_title('%s-band' % f)"
   ]
  },
  {
   "cell_type": "code",
   "execution_count": 14,
   "metadata": {
    "collapsed": false
   },
   "outputs": [
    {
     "data": {
      "image/png": "[encoded data removed]",
      "text/plain": [
       "<matplotlib.figure.Figure at 0x10ab29828>"
      ]
     },
     "metadata": {},
     "output_type": "display_data"
    }
   ],
   "source": [
    "plot_lightcurves_with_fit(2)"
   ]
  },
  {
   "cell_type": "markdown",
   "metadata": {},
   "source": [
    "### Constructing the data matrix for classification\n",
    "\n",
    "Now that you can fit each individual light curve, you are ready to build your low dimension representation of the data.  \n",
    "\n",
    "\n",
    "In this example, each entry in the data matrix will correspond to one object and each column to a best-fit parameters. As we have 4 filters, we will concatenate the 20 best-fit results for different filters in the same row of the data matrix.  "
   ]
  },
  {
   "cell_type": "code",
   "execution_count": 15,
   "metadata": {
    "collapsed": true
   },
   "outputs": [],
   "source": [
    "def preprocessing(data):\n",
    "    # Create palceholder for output matrix\n",
    "    full_params = np.zeros((len(data), 5 * len(DES_FILTERS)))\n",
    "    # Iterate over supernovae\n",
    "    for idx, snid in enumerate(data.index):\n",
    "        params = np.zeros((len(DES_FILTERS), 5))\n",
    "        # Iterate over filters\n",
    "        for id_f, f in enumerate(DES_FILTERS):\n",
    "            time = data.loc[snid, 'mjd_%s' % f]\n",
    "            flux = data.loc[snid, 'fluxcal_%s' % f]\n",
    "            try:\n",
    "                params[id_f] = lightcurve_fit(time, flux)\n",
    "            except ValueError:\n",
    "                # If fit does not converge leave zeros\n",
    "                continue\n",
    "        full_params[idx] = params.ravel()\n",
    "                           \n",
    "    return full_params"
   ]
  },
  {
   "cell_type": "markdown",
   "metadata": {},
   "source": [
    "### `feature_extractor.py`\n",
    "\n",
    "The submitted `feature_extractor.py` is expected to define part of the `FeatureExtractor` class, namely the `transform` method that will process the raw data `X`.\n",
    "\n",
    "Given the methods defined in the section above, the class would boil down to"
   ]
  },
  {
   "cell_type": "code",
   "execution_count": null,
   "metadata": {
    "collapsed": true
   },
   "outputs": [],
   "source": [
    "# feature_extractor.py\n",
    "\n",
    "class FeatureExtractor():\n",
    "    def __init__(self):\n",
    "        pass\n",
    "\n",
    "    def fit(self, X_df, y):\n",
    "        pass\n",
    "\n",
    "    def transform(self, X_df):\n",
    "        return preprocessing(X_df)"
   ]
  },
  {
   "cell_type": "markdown",
   "metadata": {},
   "source": [
    "However it will need to have all the methods above implemented with the right imports **within the file**.\n",
    "\n",
    "Checkout the baseline submission for a working example:"
   ]
  },
  {
   "cell_type": "code",
   "execution_count": null,
   "metadata": {
    "collapsed": true
   },
   "outputs": [],
   "source": [
    "%load submissions/starting_kit/feature_extractor.py"
   ]
  },
  {
   "cell_type": "markdown",
   "metadata": {},
   "source": [
    "## Classification"
   ]
  },
  {
   "cell_type": "markdown",
   "metadata": {},
   "source": [
    "We can now use the feature matrix to train a classifier of our choosing. This is the second expected contribution to the challenge."
   ]
  },
  {
   "cell_type": "markdown",
   "metadata": {},
   "source": [
    "### `classifier.py`\n",
    "\n",
    "As for the `feature_extractor.py`, the `classifier.py` needs a `Classifier` class with `__init__()`, `fit()` and `predict_proba()` methods to be implemented.\n",
    "\n",
    "Since this is not the main focus of the challenge, we chose a very simple implementation for the baseline, that is a random forest classifier. The starting_kit example looks like"
   ]
  },
  {
   "cell_type": "code",
   "execution_count": null,
   "metadata": {
    "collapsed": true
   },
   "outputs": [],
   "source": [
    "# classifier.py\n",
    "\n",
    "from sklearn.base import BaseEstimator\n",
    "from sklearn.ensemble import RandomForestClassifier\n",
    "\n",
    "\n",
    "class Classifier(BaseEstimator):\n",
    "    def __init__(self):\n",
    "        self.clf = RandomForestClassifier()\n",
    "\n",
    "    def fit(self, X, y):\n",
    "        self.clf.fit(X, y)\n",
    "\n",
    "    def predict_proba(self, X):\n",
    "        return self.clf.predict_proba(X)"
   ]
  },
  {
   "cell_type": "markdown",
   "metadata": {},
   "source": [
    "This classifier will take the output of the `FeatureExtractor.transform()` and train using the `y` labels from the beginning.\n",
    "\n",
    "Once trained, the RAMP pipeline will automatically then test the `Classifier` predictions against the expected labels, following scores/metrics defined in the `problem.py`."
   ]
  },
  {
   "cell_type": "markdown",
   "metadata": {},
   "source": [
    "## Local testing\n",
    "\n",
    "To test locally that the pipeline works, the RAMP workflow provides a command line tool: `ramp_test_submission`.\n",
    "\n",
    "For relatively big datasets (e.g. the DES target set has 20 000 + entries), a smaller portion of the data is also delivered:\n",
    "* `des_train_mini.pkl`\n",
    "* `des_test_mini.pkl`\n",
    "so that the local testing is only a few minutes long.\n",
    "\n",
    "To train/test on this minimalist dataset, use the `--quick-test` keyword."
   ]
  },
  {
   "cell_type": "code",
   "execution_count": 16,
   "metadata": {
    "collapsed": false
   },
   "outputs": [
    {
     "name": "stdout",
     "output_type": "stream",
     "text": [
      "\u001b[38;5;178m\u001b[1mTesting PLAsTiCC transient classification RAMP\u001b[0m\n",
      "\u001b[38;5;178m\u001b[1mReading train and test files from ./data ...\u001b[0m\n",
      "\u001b[38;5;178m\u001b[1mReading cv ...\u001b[0m\n",
      "\u001b[38;5;178m\u001b[1mTraining ./submissions/starting_kit ...\u001b[0m\n",
      "\u001b[38;5;178m\u001b[1mCV fold 0\u001b[0m\n",
      "\t\u001b[38;5;178m\u001b[1mscore   auc   acc   nll\u001b[0m\n",
      "\t\u001b[38;5;10m\u001b[1mtrain\u001b[0m  \u001b[38;5;10m\u001b[1m\u001b[38;5;150m1.00\u001b[0m\u001b[0m  \u001b[38;5;10m\u001b[1m\u001b[38;5;150m1.00\u001b[0m\u001b[0m  \u001b[38;5;150m0.10\u001b[0m\n",
      "\t\u001b[38;5;12m\u001b[1mvalid\u001b[0m  \u001b[38;5;12m\u001b[1m0.83\u001b[0m  \u001b[38;5;105m0.73\u001b[0m  \u001b[38;5;105m1.01\u001b[0m\n",
      "\t\u001b[38;5;1m\u001b[1mtest\u001b[0m   \u001b[38;5;1m\u001b[1m0.83\u001b[0m  \u001b[38;5;218m0.69\u001b[0m  \u001b[38;5;218m0.82\u001b[0m\n",
      "\u001b[38;5;178m\u001b[1mCV fold 1\u001b[0m\n",
      "\t\u001b[38;5;178m\u001b[1mscore   auc   acc   nll\u001b[0m\n",
      "\t\u001b[38;5;10m\u001b[1mtrain\u001b[0m  \u001b[38;5;10m\u001b[1m1.00\u001b[0m  \u001b[38;5;150m0.99\u001b[0m  \u001b[38;5;150m0.12\u001b[0m\n",
      "\t\u001b[38;5;12m\u001b[1mvalid\u001b[0m  \u001b[38;5;12m\u001b[1m0.89\u001b[0m  \u001b[38;5;105m0.77\u001b[0m  \u001b[38;5;105m0.40\u001b[0m\n",
      "\t\u001b[38;5;1m\u001b[1mtest\u001b[0m   \u001b[38;5;1m\u001b[1m0.77\u001b[0m  \u001b[38;5;218m0.65\u001b[0m  \u001b[38;5;218m0.66\u001b[0m\n",
      "\u001b[38;5;178m\u001b[1mCV fold 2\u001b[0m\n",
      "\t\u001b[38;5;178m\u001b[1mscore   auc   acc   nll\u001b[0m\n",
      "\t\u001b[38;5;10m\u001b[1mtrain\u001b[0m  \u001b[38;5;10m\u001b[1m1.00\u001b[0m  \u001b[38;5;150m0.98\u001b[0m  \u001b[38;5;150m0.12\u001b[0m\n",
      "\t\u001b[38;5;12m\u001b[1mvalid\u001b[0m  \u001b[38;5;12m\u001b[1m0.82\u001b[0m  \u001b[38;5;105m0.73\u001b[0m  \u001b[38;5;105m1.06\u001b[0m\n",
      "\t\u001b[38;5;1m\u001b[1mtest\u001b[0m   \u001b[38;5;1m\u001b[1m0.72\u001b[0m  \u001b[38;5;218m0.61\u001b[0m  \u001b[38;5;218m1.97\u001b[0m\n",
      "\u001b[38;5;178m\u001b[1m----------------------------\u001b[0m\n",
      "\u001b[38;5;178m\u001b[1mMean CV scores\u001b[0m\n",
      "\u001b[38;5;178m\u001b[1m----------------------------\u001b[0m\n",
      "\t\u001b[38;5;178m\u001b[1mscore           auc           acc           nll\u001b[0m\n",
      "\t\u001b[38;5;10m\u001b[1mtrain\u001b[0m     \u001b[38;5;10m\u001b[1m1.0\u001b[0m \u001b[38;5;150m\u001b[38;5;150m\u001b[38;5;150m±\u001b[0m\u001b[0m\u001b[0m \u001b[38;5;150m0.0\u001b[0m  \u001b[38;5;150m0.99\u001b[0m \u001b[38;5;150m\u001b[38;5;150m\u001b[38;5;150m±\u001b[0m\u001b[0m\u001b[0m \u001b[38;5;150m0.0\u001b[0m05   \u001b[38;5;150m0.11\u001b[0m \u001b[38;5;150m\u001b[38;5;150m\u001b[38;5;150m±\u001b[0m\u001b[0m\u001b[0m \u001b[38;5;150m0.0\u001b[0m1\n",
      "\t\u001b[38;5;12m\u001b[1mvalid\u001b[0m  \u001b[38;5;12m\u001b[1m0.85\u001b[0m \u001b[38;5;105m\u001b[38;5;105m\u001b[38;5;105m±\u001b[0m\u001b[0m\u001b[0m \u001b[38;5;105m0.033\u001b[0m  \u001b[38;5;105m0.74\u001b[0m \u001b[38;5;105m\u001b[38;5;105m\u001b[38;5;105m±\u001b[0m\u001b[0m\u001b[0m \u001b[38;5;105m0.016\u001b[0m  \u001b[38;5;105m0.82\u001b[0m \u001b[38;5;105m\u001b[38;5;105m\u001b[38;5;105m±\u001b[0m\u001b[0m\u001b[0m \u001b[38;5;105m0.299\u001b[0m\n",
      "\t\u001b[38;5;1m\u001b[1mtest\u001b[0m   \u001b[38;5;1m\u001b[1m0.77\u001b[0m \u001b[38;5;218m\u001b[38;5;218m\u001b[38;5;218m±\u001b[0m\u001b[0m\u001b[0m \u001b[38;5;218m0.045\u001b[0m  \u001b[38;5;218m0.65\u001b[0m \u001b[38;5;218m\u001b[38;5;218m\u001b[38;5;218m±\u001b[0m\u001b[0m\u001b[0m \u001b[38;5;218m0.033\u001b[0m  \u001b[38;5;218m1.15\u001b[0m \u001b[38;5;218m\u001b[38;5;218m\u001b[38;5;218m±\u001b[0m\u001b[0m\u001b[0m \u001b[38;5;218m0.583\u001b[0m\n",
      "\u001b[38;5;178m\u001b[1m----------------------------\u001b[0m\n",
      "\u001b[38;5;178m\u001b[1mBagged scores\u001b[0m\n",
      "\u001b[38;5;178m\u001b[1m----------------------------\u001b[0m\n",
      "\t\u001b[38;5;178m\u001b[1mscore   auc\u001b[0m\n",
      "\t\u001b[38;5;12m\u001b[1mvalid\u001b[0m  \u001b[38;5;12m\u001b[1m0.85\u001b[0m\n",
      "\t\u001b[38;5;1m\u001b[1mtest\u001b[0m   \u001b[38;5;1m\u001b[1m0.81\u001b[0m\n"
     ]
    }
   ],
   "source": [
    "!ramp_test_submission --quick-test"
   ]
  },
  {
   "cell_type": "markdown",
   "metadata": {},
   "source": [
    "### Writing your own submissions locally\n",
    "\n",
    "To start working on a new submission, the easiest way is to copy the starting_kit into a new directory and then modify the files from the notebook using the `%%file` magic command."
   ]
  },
  {
   "cell_type": "code",
   "execution_count": null,
   "metadata": {
    "collapsed": true
   },
   "outputs": [],
   "source": [
    "!cp -r submissions/starting_kit submissions/first_submission"
   ]
  },
  {
   "cell_type": "code",
   "execution_count": null,
   "metadata": {
    "collapsed": true
   },
   "outputs": [],
   "source": [
    "%%file submissions/first_submission/feature_extractor.py\n",
    "\n",
    "class FeatureExtractor():\n",
    "    def __init__(self):\n",
    "        pass\n",
    "\n",
    "    def fit(self, X_df, y):\n",
    "        pass\n",
    "\n",
    "    def transform(self, X_df):\n",
    "        return preprocessing(X_df)"
   ]
  },
  {
   "cell_type": "code",
   "execution_count": null,
   "metadata": {
    "collapsed": true
   },
   "outputs": [],
   "source": [
    "%file submissions/first_submission/classifier.py\n",
    "\n",
    "from sklearn.base import BaseEstimator\n",
    "from sklearn.ensemble import RandomForestClassifier\n",
    "\n",
    "\n",
    "class Classifier(BaseEstimator):\n",
    "    def __init__(self):\n",
    "        self.clf = RandomForestClassifier()\n",
    "\n",
    "    def fit(self, X, y):\n",
    "        self.clf.fit(X, y)\n",
    "\n",
    "    def predict_proba(self, X):\n",
    "        return self.clf.predict_proba(X)"
   ]
  },
  {
   "cell_type": "markdown",
   "metadata": {},
   "source": [
    "Finally, test your new submission by providing the name of the submission"
   ]
  },
  {
   "cell_type": "code",
   "execution_count": null,
   "metadata": {
    "collapsed": true
   },
   "outputs": [],
   "source": [
    "!ramp_test_submission --submission=first_submission --quick-test"
   ]
  },
  {
   "cell_type": "markdown",
   "metadata": {},
   "source": [
    "<footer style=\"float:right; color:#999;background:#fff;\">\n",
    "HAPPY CODING...\n",
    "</footer>"
   ]
  },
  {
   "cell_type": "markdown",
   "metadata": {},
   "source": [
    "---"
   ]
  },
  {
   "cell_type": "code",
   "execution_count": 17,
   "metadata": {
    "collapsed": false
   },
   "outputs": [
    {
     "data": {
      "text/html": [
       "/*Mostly inspired from Lorena Barba's configuration\n",
       "https://github.com/barbagroup/AeroPython/blob/master/styles/custom.css*/\n",
       "\n",
       "<link href='http://fonts.googleapis.com/css?family=Fenix' rel='stylesheet' type='text/css'>\n",
       "<link href='http://fonts.googleapis.com/css?family=Alegreya+Sans:100,300,400,500,700,800,900,100italic,300italic,400italic,500italic,700italic,800italic,900italic' rel='stylesheet' type='text/css'>\n",
       "<link href='http://fonts.googleapis.com/css?family=Source+Code+Pro:300,400' rel='stylesheet' type='text/css'>\n",
       "<style>\n",
       "\n",
       "@font-face {\n",
       "    font-family: \"Computer Modern\";\n",
       "    src: url('http://mirrors.ctan.org/fonts/cm-unicode/fonts/otf/cmunss.otf');\n",
       "}\n",
       "\n",
       "\n",
       "#notebook_panel { /* main background */\n",
       "    background: rgb(245,245,245);\n",
       "}\n",
       "\n",
       "div.cell { /* set cell width */\n",
       "    width: 750px;\n",
       "}\n",
       "\n",
       "div #notebook { /* centre the content */\n",
       "    background: #fff; /* white background for content */\n",
       "    width: 1100px;\n",
       "    margin: auto;\n",
       "    padding-left: 0em;\n",
       "}\n",
       "\n",
       "#notebook li { /* More space between bullet points */\n",
       "margin-top:0.8em;\n",
       "}\n",
       "\n",
       "/* draw border around running cells */\n",
       "div.cell.border-box-sizing.code_cell.running {\n",
       "    border: 1px solid #111;\n",
       "}\n",
       "\n",
       "/* Put a solid color box around each cell and its output, visually linking them*/\n",
       "div.cell.code_cell {\n",
       "    background-color: rgb(256,256,256);\n",
       "    border-radius: 0px;\n",
       "    padding: 0.5em;\n",
       "    margin-left:1em;\n",
       "    margin-top: 1em;\n",
       "}\n",
       "\n",
       "\n",
       "div.text_cell_render{\n",
       "    font-family: 'Alegreya Sans' sans-serif;\n",
       "    line-height: 140%;\n",
       "    font-size: 125%;\n",
       "    font-weight: 400;\n",
       "    width:600px;\n",
       "    margin-left:auto;\n",
       "    margin-right:auto;\n",
       "}\n",
       "\n",
       "/* Formatting for header cells */\n",
       ".text_cell_render h1 {\n",
       "    font-family: 'Alegreya Sans', sans-serif;\n",
       "    font-style:regular;\n",
       "    font-weight: 200;\n",
       "    font-size: 50pt;\n",
       "    line-height: 100%;\n",
       "    /*color:#CD2305;*/\n",
       "    color:#62003C;\n",
       "    margin-bottom: 0.5em;\n",
       "    margin-top: 0.5em;\n",
       "    display: block;\n",
       "}\n",
       ".text_cell_render h2 {\n",
       "    font-family: 'Fenix', serif;\n",
       "    font-size: 22pt;\n",
       "    line-height: 100%;\n",
       "    margin-bottom: 0.1em;\n",
       "    margin-top: 0.3em;\n",
       "    display: block;\n",
       "}\n",
       "\n",
       ".text_cell_render h3 {\n",
       "    font-family: 'Fenix', serif;\n",
       "    margin-top:12px;\n",
       "    font-size: 16pt;\n",
       "    margin-bottom: 3px;\n",
       "    font-style: regular;\n",
       "}\n",
       "\n",
       ".text_cell_render h4 {    /*Use this for captions*/\n",
       "    font-family: 'Fenix', serif;\n",
       "    font-size: 2pt;\n",
       "    text-align: center;\n",
       "    margin-top: 0em;\n",
       "    margin-bottom: 2em;\n",
       "    font-style: regular;\n",
       "}\n",
       "\n",
       ".text_cell_render h5 {  /*Use this for small titles*/\n",
       "    font-family: 'Alegreya Sans', sans-serif;\n",
       "    font-weight: 300;\n",
       "    font-size: 16pt;\n",
       "    color: #62003C;\n",
       "    font-style: italic;\n",
       "    margin-bottom: .5em;\n",
       "    margin-top: 0.5em;\n",
       "    display: block;\n",
       "}\n",
       "\n",
       ".text_cell_render h6 { /*use this for copyright note*/\n",
       "    font-family: 'Source Code Pro', sans-serif;\n",
       "    font-weight: 300;\n",
       "    font-size: 9pt;\n",
       "    line-height: 100%;\n",
       "    color: grey;\n",
       "    margin-bottom: 1px;\n",
       "    margin-top: 1px;\n",
       "}\n",
       "\n",
       "figcaption {\n",
       "    /*display: block;*/\n",
       "    padding: 1.5em;\n",
       "}\n",
       "\n",
       "</style>\n"
      ],
      "text/plain": [
       "<IPython.core.display.HTML object>"
      ]
     },
     "execution_count": 17,
     "metadata": {},
     "output_type": "execute_result"
    }
   ],
   "source": [
    "from IPython.display import HTML\n",
    "HTML(open(\"style/custom.css\").read())"
   ]
  }
 ],
 "metadata": {
  "kernelspec": {
   "display_name": "Python 2",
   "language": "python",
   "name": "python2"
  },
  "language_info": {
   "codemirror_mode": {
    "name": "ipython",
    "version": 2
   },
   "file_extension": ".py",
   "mimetype": "text/x-python",
   "name": "python",
   "nbconvert_exporter": "python",
   "pygments_lexer": "ipython2",
   "version": "2.7.14"
  },
  "widgets": {
   "state": {},
   "version": "1.1.1"
  }
 },
 "nbformat": 4,
 "nbformat_minor": 2
}
